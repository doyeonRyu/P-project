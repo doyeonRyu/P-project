{
 "cells": [
  {
   "cell_type": "markdown",
   "metadata": {},
   "source": [
    "# 물동량 예측"
   ]
  },
  {
   "cell_type": "markdown",
   "metadata": {},
   "source": [
    "## 서울시 행정동단위 CJ대한통운 택배 유형별 월 데이터"
   ]
  },
  {
   "cell_type": "code",
   "execution_count": null,
   "metadata": {
    "vscode": {
     "languageId": "plaintext"
    }
   },
   "outputs": [],
   "source": [
    "# 서울시 행정동단위 CJ대한통운 택배 유형별 월 데이터\n",
    "cj_seoul_rec_data = pd.read_csv(\"data/행정동단위 월별 착지 데이터.csv\")\n",
    "cj_seoul_rec_data.head()"
   ]
  },
  {
   "cell_type": "code",
   "execution_count": null,
   "metadata": {
    "vscode": {
     "languageId": "plaintext"
    }
   },
   "outputs": [],
   "source": [
    "cj_seoul_rec_data.columns"
   ]
  },
  {
   "cell_type": "code",
   "execution_count": null,
   "metadata": {
    "vscode": {
     "languageId": "plaintext"
    }
   },
   "outputs": [],
   "source": [
    "cj_seoul_rec_data['dl_ym'].unique() # 샘플 데이터라 한 달만 있음 # 2022년 1월"
   ]
  },
  {
   "cell_type": "code",
   "execution_count": null,
   "metadata": {
    "vscode": {
     "languageId": "plaintext"
    }
   },
   "outputs": [],
   "source": [
    "# 서울 행정동별 인구 데이터\n",
    "# 출처: 서울 열린 데이터 광장 (https://data.seoul.go.kr/dataList/11068/S/2/datasetView.do)\n",
    "seoul_pop = pd.read_csv(\"data/서울 등록인구(월별)_202201-202312.csv\")\n",
    "\n",
    "seoul_pop_2021 = seoul_pop[[\"동별(1)\", \"동별(2)\", \"동별(3)\", \"2022. 01\"]]\n",
    "\n",
    "# 첫 번째 행 삭제\n",
    "seoul_pop_2021 = seoul_pop_2021.drop(index=0)\n",
    "\n",
    "# 필요없는 열 삭제\n",
    "seoul_pop_2021 = seoul_pop_2021.drop(columns=[\"동별(1)\"])\n",
    "\n",
    "# '동별 (3)' 열에서 값이 '소계'인 행 제거\n",
    "seoul_pop_2021 = seoul_pop_2021[seoul_pop_2021[\"동별(3)\"] != \"소계\"]\n",
    "\n",
    "# 열 이름 변경\n",
    "seoul_pop_2021.rename(columns={\"동별(2)\": \"구\", \"동별(3)\": \"동\"}, inplace=True)\n",
    "\n",
    "\n",
    "# 인덱스 재설정\n",
    "seoul_pop_2021.reset_index(drop=True, inplace=True)\n",
    "\n",
    "# 저장\n",
    "seoul_pop_2021.to_csv(\"data/서울 등록인구(월별)_202201.csv\", index=False)\n",
    "seoul_pop_2021"
   ]
  }
 ],
 "metadata": {
  "language_info": {
   "name": "python"
  }
 },
 "nbformat": 4,
 "nbformat_minor": 2
}
