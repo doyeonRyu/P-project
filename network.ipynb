{
 "cells": [
  {
   "cell_type": "markdown",
   "metadata": {},
   "source": [
    "# 네트워크"
   ]
  },
  {
   "cell_type": "markdown",
   "metadata": {},
   "source": [
    "## 전국지역간 톤급별 화물자동차 통행량 OD\n",
    "- 배포용 (기준년도 2021년) 화물자동차OD_2023.02.14 데이터 \n",
    "---   \n",
    "- 2024.12.04\n",
    "- 화물자동차 OD를 통해 일이 아닌 다른 변수들로 물류량 예측을 목표로 함\n",
    "\n",
    "- 대형(hub - sub), 소형(sub - 단지) 사용\n",
    "- 물동량 추가해 줌 - 은주"
   ]
  },
  {
   "cell_type": "code",
   "execution_count": null,
   "metadata": {
    "vscode": {
     "languageId": "plaintext"
    }
   },
   "outputs": [],
   "source": [
    "car_od = pd.read_excel(\"data/2022-OD-FRE-CAR-00 전국지역간 톤급별 화물자동차 통행량 OD(2021년 기준)/배포용 (기준년도 2021년) 화물자동차OD_2023.02.14.xlsx\")\n",
    "car_od.head()"
   ]
  },
  {
   "cell_type": "code",
   "execution_count": null,
   "metadata": {
    "vscode": {
     "languageId": "plaintext"
    }
   },
   "outputs": [],
   "source": [
    "# index를 첫 번째 행 값으로 변경하기, 기존의 index는 삭제(자료 설명임)\n",
    "\n",
    "# 첫 번째 행을 index로 설정\n",
    "car_od.columns = car_od.iloc[0]  # 첫 번째 행을 열 이름으로 설정\n",
    "car_od = car_od[1:]  # 첫 번째 행 제거\n",
    "\n",
    "car_od = car_od.drop(columns=['중형'])\n",
    "# 출력\n",
    "car_od.head()"
   ]
  },
  {
   "cell_type": "code",
   "execution_count": null,
   "metadata": {
    "vscode": {
     "languageId": "plaintext"
    }
   },
   "outputs": [],
   "source": [
    "# 배포용 (기준년도 2021년) 화물물동량OD_2023.02.14 추가하기\n",
    "goods_od = pd.read_excel(\"data/2022-OD-FRE-TON-00 전국지역간 품목별 도로 물동량 OD(2021년 기준)/배포용 (기준년도 2021년) 화물물동량OD_2023.02.14.xlsx\")\n",
    "goods_od.head()"
   ]
  },
  {
   "cell_type": "code",
   "execution_count": null,
   "metadata": {
    "vscode": {
     "languageId": "plaintext"
    }
   },
   "outputs": [],
   "source": [
    "# index를 첫 번째 행 값으로 변경하기, 기존의 index는 삭제(자료 설명임)\n",
    "\n",
    "# 첫 번째 행을 index로 설정\n",
    "goods_od.columns = goods_od.iloc[0]  # 첫 번째 행을 열 이름으로 설정\n",
    "goods_od = goods_od[1:]  # 첫 번째 행 제거\n",
    "\n",
    "# 출력\n",
    "goods_od.head()"
   ]
  },
  {
   "cell_type": "code",
   "execution_count": null,
   "metadata": {
    "vscode": {
     "languageId": "plaintext"
    }
   },
   "outputs": [],
   "source": [
    "# 열 추출\n",
    "goods_od.columns"
   ]
  },
  {
   "cell_type": "code",
   "execution_count": null,
   "metadata": {
    "vscode": {
     "languageId": "plaintext"
    }
   },
   "outputs": [],
   "source": [
    "# 전체 열만 남기기\n",
    "# '품목'으로 시작하는 열 이름만 선택\n",
    "columns_to_drop = [col for col in goods_od.columns if col.startswith('품목')]\n",
    "\n",
    "# 선택된 열 삭제\n",
    "goods_od = goods_od.drop(columns=columns_to_drop)\n",
    "goods_od = goods_od.drop(columns=['컨테이너'])\n",
    "goods_od.head()"
   ]
  },
  {
   "cell_type": "code",
   "execution_count": null,
   "metadata": {
    "vscode": {
     "languageId": "plaintext"
    }
   },
   "outputs": [],
   "source": [
    "car_od.rename(columns={\n",
    "    \"O_250\": \"O_250\",\n",
    "    \"D_250\": \"D_250\",\n",
    "    \"대존O_17\": \"O_17\",\n",
    "    \"대존D_17\": \"D_17\",\n",
    "    \"전체\": \"전체_화물자동차수(대/일)\"\n",
    "}, inplace=True)\n",
    "\n",
    "goods_od.rename(columns={\n",
    "    \"O_250\": \"O_250\",\n",
    "    \"D_250\": \"D_250\",\n",
    "    \"전체\": \"전체_Delivery\"\n",
    "}, inplace=True)"
   ]
  },
  {
   "cell_type": "code",
   "execution_count": null,
   "metadata": {
    "vscode": {
     "languageId": "plaintext"
    }
   },
   "outputs": [],
   "source": [
    "# car_od와 goods_od를 합치기\n",
    "# 공통 열만 합치기 위해 outer join\n",
    "final_car_df = pd.merge(\n",
    "    car_od,\n",
    "    goods_od,\n",
    "    how=\"outer\",\n",
    "    left_on=[\"O_250\", \"D_250\", \"O_17\", \"D_17\"],\n",
    "    right_on=[\"O_250\", \"D_250\", \"O_17\", \"D_17\"]\n",
    ")"
   ]
  },
  {
   "cell_type": "code",
   "execution_count": null,
   "metadata": {
    "vscode": {
     "languageId": "plaintext"
    }
   },
   "outputs": [],
   "source": [
    "final_car_df"
   ]
  },
  {
   "cell_type": "code",
   "execution_count": null,
   "metadata": {
    "vscode": {
     "languageId": "plaintext"
    }
   },
   "outputs": [],
   "source": [
    "# 데이터 저장하기\n",
    "# final_car_df.to_excel(\"data/최종 톤급별 화물자동차 통행량 OD.xlsx\", index=False)"
   ]
  },
  {
   "cell_type": "code",
   "execution_count": null,
   "metadata": {
    "vscode": {
     "languageId": "plaintext"
    }
   },
   "outputs": [],
   "source": [
    "# 경기도 광주시 - O_250: 110, O_17: 8\n",
    "# 서울 sub 터미널 - \n",
    "# 출발: 곤지암 허브 터미널, 도착: 서울로 보내는 sub 터미널들\n",
    "konjian = final_car_df[(final_car_df[\"O_250\"] == 110) & (final_car_df[\"O_17\"] == 8)]\n",
    "konjian.shape"
   ]
  },
  {
   "cell_type": "code",
   "execution_count": null,
   "metadata": {
    "vscode": {
     "languageId": "plaintext"
    }
   },
   "outputs": [],
   "source": [
    "# konjian 데이터 시각화\n",
    "konjian"
   ]
  },
  {
   "cell_type": "code",
   "execution_count": null,
   "metadata": {
    "vscode": {
     "languageId": "plaintext"
    }
   },
   "outputs": [],
   "source": [
    "# 위경도 데이터 추가하기\n"
   ]
  }
 ],
 "metadata": {
  "language_info": {
   "name": "python"
  }
 },
 "nbformat": 4,
 "nbformat_minor": 2
}
